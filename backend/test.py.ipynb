{
 "cells": [
  {
   "cell_type": "code",
   "execution_count": 1,
   "id": "initial_id",
   "metadata": {
    "collapsed": true,
    "ExecuteTime": {
     "end_time": "2024-11-21T15:28:38.219785Z",
     "start_time": "2024-11-21T15:28:36.414901Z"
    }
   },
   "outputs": [
    {
     "name": "stdout",
     "output_type": "stream",
     "text": [
      "You are a scriptwriting assistant. Your primary goal is to help users craft engaging and creative scripts, including character dialogues, actions, and scene descriptions. Always follow the user's input and provide suggestions in a concise and clear manner. Ensure that the tone, style, and content match the user's intent, whether it's humorous, dramatic, or formal.\n",
      "\n",
      "### Character Definitions\n",
      "At the beginning of the session, the user will define each character's personality and speaking style. These definitions are crucial for maintaining consistency throughout the script. Use the following format for character definitions:\n",
      "[Character Define] CharacterName: Character's personalities and speaking style.\n",
      "\n",
      "### Input Formats\n",
      "After defining the characters, the user will input three types of content. Each type has a specific format:\n",
      "1. **Dialogues**: CharacterName: Dialogue text.\n",
      "2. **Actions**: [Action] Description of the character's actions or movements.\n",
      "3. **Environment**: [Environment] Description of the scene's setting or atmosphere.\n",
      "\n",
      "### Content Generation Queries\n",
      "When the user wants you to generate content, they will use the following query formats:\n",
      "1. **Dialogues**: ? CharacterName\n",
      "2. **Actions**: ? Action\n",
      "3. **Environment**: ? Environment\n",
      "\n",
      "For each query, generate content strictly following the specified type and format. Use the character definitions provided at the start of the session to ensure personality and speaking style consistency. If no character definition or specific details are available, use your creativity to fill in the gaps while keeping the tone and intent aligned with the script.\n",
      "\n",
      "Always respond in the requested format without adding additional commentary unless explicitly instructed.\n",
      "Great! Let's begin by defining the characters in your script. Please provide the personality traits and speaking styles for each character.\n"
     ]
    }
   ],
   "source": [
    "from gpt import impro_gpt"
   ]
  },
  {
   "cell_type": "code",
   "outputs": [],
   "source": [
    "impro_gpt.add_character(\"Tom\", \"Tom is a gray, anthropomorphic housecat and one of the two main characters in the legendary animated series Tom and Jerry, created by William Hanna and Joseph Barbera in 1940. He is known for his endless (and mostly unsuccessful) attempts to catch Jerry, a clever and mischievous little mouse.\")"
   ],
   "metadata": {
    "collapsed": false,
    "ExecuteTime": {
     "end_time": "2024-11-21T15:29:12.665902Z",
     "start_time": "2024-11-21T15:29:12.661248Z"
    }
   },
   "id": "17de1fe3ac6999f0",
   "execution_count": 2
  },
  {
   "cell_type": "code",
   "outputs": [],
   "source": [
    "impro_gpt.add_character(\"Jerry\", \"Jerry is a small, brown, anthropomorphic mouse and the clever counterpart to Tom in the legendary cartoon Tom and Jerry. Created in 1940 by William Hanna and Joseph Barbera, Jerry is known for his intelligence, resourcefulness, and mischievous nature, often outsmarting Tom’s elaborate plans to catch him. Despite their frequent rivalry, Jerry occasionally shows compassion toward Tom, highlighting a complex relationship filled with slapstick humor, wit, and moments of unexpected camaraderie.\")"
   ],
   "metadata": {
    "collapsed": false,
    "ExecuteTime": {
     "end_time": "2024-11-21T15:29:24.522536Z",
     "start_time": "2024-11-21T15:29:24.517597Z"
    }
   },
   "id": "5ac5dc440f7cab23",
   "execution_count": 3
  },
  {
   "cell_type": "code",
   "outputs": [
    {
     "name": "stdout",
     "output_type": "stream",
     "text": [
      "Tom: *pacing back and forth* \"I'll catch that little mouse or my name isn't Tomcat!\"\n"
     ]
    }
   ],
   "source": [
    "res = impro_gpt.query_dialogue(\"Tom\")\n",
    "print(res)"
   ],
   "metadata": {
    "collapsed": false,
    "ExecuteTime": {
     "end_time": "2024-11-21T15:29:48.693506Z",
     "start_time": "2024-11-21T15:29:47.885950Z"
    }
   },
   "id": "594f97f84dab28df",
   "execution_count": 4
  },
  {
   "cell_type": "code",
   "outputs": [
    {
     "name": "stdout",
     "output_type": "stream",
     "text": [
      "Jerry: *scurrying around the kitchen, teasing Tom with a mischievous grin* \"You'll have to try harder than that, Tom!\"\n"
     ]
    }
   ],
   "source": [
    "res = impro_gpt.query_dialogue(\"Jerry\")\n",
    "print(res)"
   ],
   "metadata": {
    "collapsed": false,
    "ExecuteTime": {
     "end_time": "2024-11-21T15:30:40.004634Z",
     "start_time": "2024-11-21T15:30:39.043332Z"
    }
   },
   "id": "30467c56ee087b1",
   "execution_count": 5
  },
  {
   "cell_type": "code",
   "outputs": [],
   "source": [
    "res = impro_gpt.query_action()"
   ],
   "metadata": {
    "collapsed": false,
    "ExecuteTime": {
     "end_time": "2024-11-21T15:31:03.212789Z",
     "start_time": "2024-11-21T15:31:02.316170Z"
    }
   },
   "id": "900c95b73afd3c86",
   "execution_count": 6
  },
  {
   "cell_type": "code",
   "outputs": [
    {
     "name": "stdout",
     "output_type": "stream",
     "text": [
      "[Action] Tom sets up a series of elaborate traps around the house, each one more intricate than the last, determined to finally catch Jerry.\n"
     ]
    }
   ],
   "source": [
    "print(res)"
   ],
   "metadata": {
    "collapsed": false,
    "ExecuteTime": {
     "end_time": "2024-11-21T15:31:06.745669Z",
     "start_time": "2024-11-21T15:31:06.741114Z"
    }
   },
   "id": "68224f9ae61ee4ba",
   "execution_count": 7
  },
  {
   "cell_type": "code",
   "outputs": [],
   "source": [],
   "metadata": {
    "collapsed": false
   },
   "id": "354f3bd411fe0dc8"
  }
 ],
 "metadata": {
  "kernelspec": {
   "display_name": "Python 3",
   "language": "python",
   "name": "python3"
  },
  "language_info": {
   "codemirror_mode": {
    "name": "ipython",
    "version": 2
   },
   "file_extension": ".py",
   "mimetype": "text/x-python",
   "name": "python",
   "nbconvert_exporter": "python",
   "pygments_lexer": "ipython2",
   "version": "2.7.6"
  }
 },
 "nbformat": 4,
 "nbformat_minor": 5
}
